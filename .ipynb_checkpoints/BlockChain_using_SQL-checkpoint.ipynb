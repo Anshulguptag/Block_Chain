{
 "cells": [
  {
   "cell_type": "code",
   "execution_count": 1,
   "metadata": {},
   "outputs": [],
   "source": [
    "import mysql.connector\n",
    "import hashlib\n",
    "import datetime\n",
    "import numpy as np"
   ]
  },
  {
   "cell_type": "code",
   "execution_count": 2,
   "metadata": {},
   "outputs": [],
   "source": [
    "conn = mysql.connector.connect(host='localhost',database='mysql',user='root',password='Anshul@13')"
   ]
  },
  {
   "cell_type": "code",
   "execution_count": 3,
   "metadata": {},
   "outputs": [],
   "source": [
    "cursor = conn.cursor()"
   ]
  },
  {
   "cell_type": "code",
   "execution_count": 11,
   "metadata": {},
   "outputs": [],
   "source": [
    "class Block:\n",
    "    def __init__(self,data,previoushash):\n",
    "        self.data = data\n",
    "        self.previoushash = previoushash\n",
    "        self.timestamp = datetime.datetime.now()\n",
    "        self.hash = self.get_hash()\n",
    "        \n",
    "    def get_hash(self):\n",
    "        header_bin = (str(self.previoushash)+\n",
    "                     str(self.data)+\n",
    "                     str(self.timestamp)).encode()\n",
    "        \n",
    "        inner_hash = hashlib.sha256(header_bin).hexdigest().encode()\n",
    "        outer_hash = hashlib.sha256(inner_hash).hexdigest()\n",
    "        return outer_hash  \n",
    "    \n",
    "    def insert(self, data, previoushash):\n",
    "        block = Block(data, previoushash)\n",
    "        return block.data, self.hash, self.timestamp"
   ]
  },
  {
   "cell_type": "code",
   "execution_count": 13,
   "metadata": {},
   "outputs": [
    {
     "name": "stdout",
     "output_type": "stream",
     "text": [
      "Do you want to enter data: y\n",
      "2\n",
      "Enter data: 1500\n",
      "Enter Name: Akala\n",
      "Want to add more: n\n"
     ]
    }
   ],
   "source": [
    "want_data=input(\"Do you want to enter data: \")\n",
    "if want_data == 'y':\n",
    "    block1 = '0x0'\n",
    "    choice = 'y'\n",
    "    sql = \"Select Block_Id from block\"\n",
    "    cursor.execute(sql)\n",
    "    blockss=cursor.fetchall()\n",
    "    print (len(blockss))\n",
    "    if len(blockss)>0:\n",
    "        block1=blockss[len(blockss)-1]\n",
    "        block1=block1[0]\n",
    "\n",
    "    while choice =='y':\n",
    "        block = Block(None,None)\n",
    "        Input1 = input(\"Enter data: \")\n",
    "        Owner = input(\"Enter Name: \")\n",
    "        data, Bhash, timestamp= block.insert(Input1,block1)\n",
    "        sql= \"Insert into block (Block_Id, Previous_Id, Data, Owner, Transaction_Done, Date_and_Time) values('\"+str(Bhash)+\"','\"+str(block1)+\"','\"+str(data)+\"','\"+str(Owner)+\"', 'No transaction is Done', '\"+str(timestamp)+\"')\"\n",
    "        cursor.execute(sql)\n",
    "        conn.commit()\n",
    "        sql = \"Select Block_Id from block\"\n",
    "        cursor.execute(sql)\n",
    "        blocks=cursor.fetchall()\n",
    "        block1=blocks[len(blocks)-1]\n",
    "        block1=block1[0]\n",
    "        choice = input(\"Want to add more: \")\n",
    "    #print (int(len(cursor.fetchall())))\n"
   ]
  },
  {
   "cell_type": "code",
   "execution_count": 48,
   "metadata": {},
   "outputs": [
    {
     "name": "stdout",
     "output_type": "stream",
     "text": [
      "Do you want to see Ledger: y\n",
      "Enter your block_id: e44a793d4bb5717f26bde045ff49c067786e9cdd184954d8128fc923ebf695cb\n",
      "Transactions Occuring \n",
      "--> 4576065905080b2b4c02db17ca98e437f3596f8979a2b902fb735341eaed2952 to fc67a5f18e60db007eae39ca142388f13b85389a20a9a1b1054f8dee8fcd7c1b of Rs. 200\n"
     ]
    }
   ],
   "source": [
    "choice = input(\"Do you want to see Ledger: \")\n",
    "flag = 0\n",
    "if choice =='y':\n",
    "    sql = \"Select Block_Id from block\"\n",
    "    cursor.execute(sql)\n",
    "    block_id=cursor.fetchall()\n",
    "    b_id =input (\"Enter your block_id: \")\n",
    "    block_id = np.array(block_id)\n",
    "    for i in range(len(block_id)):\n",
    "        if block_id[i][0]==b_id:\n",
    "            sql = 'Select * from transaction'\n",
    "            cursor.execute(sql)\n",
    "            t_done=cursor.fetchall()\n",
    "            print (\"Transactions Occuring \")\n",
    "            for l in range(len(t_done)):\n",
    "                print (\"-->\",t_done[l][0])\n",
    "            flag =1\n",
    "            break\n",
    "    if flag ==0:\n",
    "        print (\"Invalid ID\")\n",
    "    sql = 'Truncate table transaction'\n",
    "    cursor.execute(sql)\n",
    "    conn.commit()"
   ]
  },
  {
   "cell_type": "code",
   "execution_count": 47,
   "metadata": {},
   "outputs": [
    {
     "name": "stdout",
     "output_type": "stream",
     "text": [
      "Do you want to Transaction:y\n",
      "Enter your block_id: 3aee7e822d54081a716b0cec766cddd4b649bb492df6146119ef445f9b410c34\n",
      "Enter id where you transfer: f16e3fbf2c733f284f7c057ee94bf263bb500daa2ed46b0ac8befe4962808e1e\n",
      "Enter the amount to be transfer: 200\n",
      "Transaction is Done from Anshul to Akala of Rs.200\n",
      "Transaction is Sucessfully done! :)\n",
      "Do you want more Transaction: n\n"
     ]
    }
   ],
   "source": [
    "trans = input(\"Do you want to Transaction:\")\n",
    "while trans == 'y':\n",
    "    sql = 'Create Table if not exists transaction (t_done varchar(200))'\n",
    "    cursor.execute(sql)\n",
    "    conn.commit()\n",
    "    sql = \"Select Block_Id from block\"\n",
    "    cursor.execute(sql)\n",
    "    block_id=cursor.fetchall()\n",
    "    b_id =input (\"Enter your block_id: \")\n",
    "    s_id =input (\"Enter id where you transfer: \")\n",
    "    block_id = np.array(block_id)\n",
    "    if b_id!=s_id:\n",
    "        for i in range(len(block_id)):\n",
    "            if block_id[i][0]==b_id:\n",
    "                for j in range(len(block_id)):\n",
    "                    if block_id[j][0]==s_id:\n",
    "                        sql = \"Select Data from block where Block_Id='\"+str(b_id)+\"'\"\n",
    "                        cursor.execute(sql)\n",
    "                        data=cursor.fetchall()\n",
    "                        data = data[0][0]\n",
    "                        \n",
    "                        sql = \"Select Data from block where Block_Id='\"+str(s_id)+\"'\"\n",
    "                        cursor.execute(sql)\n",
    "                        data1=cursor.fetchall()\n",
    "                        data1 = data1[0][0]\n",
    "                        \n",
    "                        sql = \"Select Owner from block where Block_Id='\"+str(b_id)+\"'\"\n",
    "                        cursor.execute(sql)\n",
    "                        owner=cursor.fetchall()\n",
    "                        \n",
    "                        sql = \"Select Owner from block where Block_Id='\"+str(s_id)+\"'\"\n",
    "                        cursor.execute(sql)\n",
    "                        owner1=cursor.fetchall()\n",
    "                    \n",
    "                        trans_amount = int(input(\"Enter the amount to be transfer: \"))\n",
    "                        if data<trans_amount:\n",
    "                            print (\"Sorry transaction cannot be done due to insufficient amount\")\n",
    "                        else:\n",
    "                            data = data-trans_amount\n",
    "                            data1 = data1+trans_amount\n",
    "                            sql = \"Select Previous_Id from block where Block_Id='\"+str(b_id)+\"'\"\n",
    "                            cursor.execute(sql)\n",
    "                            p_hash=cursor.fetchall()\n",
    "                            block_b = Block(None, None)\n",
    "                            Data, bhash, timestamp = block_b.insert(data, p_hash)\n",
    "                            sql = \"Update block set Data='\"+str(Data)+\"', Block_Id='\"+str(bhash)+\"' where Block_Id='\"+str(b_id)+\"'\"\n",
    "                            cursor.execute(sql)\n",
    "                            sql = \"Update block set Previous_Id='\"+str(bhash)+\"' where Previous_Id='\"+str(b_id)+\"'\"\n",
    "                            cursor.execute(sql)\n",
    "                            conn.commit()\n",
    "                            \n",
    "                            sql = \"Select Previous_Id from block where Block_Id='\"+str(s_id)+\"'\"\n",
    "                            cursor.execute(sql)\n",
    "                            p_hash=cursor.fetchall()\n",
    "                            block_b = Block(None, None)\n",
    "                            Data1, bhash1, timestamp = block_b.insert(data1, p_hash)\n",
    "                            sql = \"Update block set Data='\"+str(Data1)+\"', Block_Id='\"+str(bhash1)+\"' where Block_Id='\"+str(s_id)+\"'\"\n",
    "                            cursor.execute(sql)\n",
    "                            sql = \"Update block set Previous_Id='\"+str(bhash1)+\"' where Previous_Id='\"+str(s_id)+\"'\"\n",
    "                            cursor.execute(sql)\n",
    "                            conn.commit()\n",
    "                            \n",
    "                            sql=\"Insert into transaction(t_done) values('\"+str(bhash)+\" to \"+str(bhash1)+\" of Rs. \"+str(trans_amount)+\"')\"\n",
    "                            cursor.execute(sql)\n",
    "                            conn.commit()\n",
    "                            print (\"Transaction is Done from \"+str(owner[0][0])+\" to \"+str(owner1[0][0])+\" of Rs.\"+str(trans_amount))\n",
    "                            #sql = \"Insert into block(Transaction_Done) values('From \"+str(owner[0][0])+\" to \"+str(owner1[0][0])+\" of Rs.\"+str(trans_amount)+\"') where Block_Id='\"+str(b_id)+\"'\"\n",
    "                            \n",
    "                            print (\"Transaction is Sucessfully done! :)\")\n",
    "                            \n",
    "                            trans = input(\"Do you want more Transaction: \")\n",
    "                            \n",
    "                            \n",
    "    else:\n",
    "        print (\"Sorry Both ids are same! try again :(\")"
   ]
  },
  {
   "cell_type": "code",
   "execution_count": 43,
   "metadata": {},
   "outputs": [
    {
     "name": "stdout",
     "output_type": "stream",
     "text": [
      "Do you want to close connection: n\n"
     ]
    }
   ],
   "source": [
    "'''\n",
    "sql='TRUNCATE TABLE block'\n",
    "cursor.execute(sql)\n",
    "conn.commit()\n",
    "'''\n",
    "choice = input(\"Do you want to close connection: \")\n",
    "if choice == 'y':\n",
    "    conn.close()"
   ]
  }
 ],
 "metadata": {
  "kernelspec": {
   "display_name": "Python 3",
   "language": "python",
   "name": "python3"
  },
  "language_info": {
   "codemirror_mode": {
    "name": "ipython",
    "version": 3
   },
   "file_extension": ".py",
   "mimetype": "text/x-python",
   "name": "python",
   "nbconvert_exporter": "python",
   "pygments_lexer": "ipython3",
   "version": "3.5.5"
  }
 },
 "nbformat": 4,
 "nbformat_minor": 2
}
