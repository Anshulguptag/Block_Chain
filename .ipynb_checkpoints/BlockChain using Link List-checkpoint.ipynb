{
 "cells": [
  {
   "cell_type": "code",
   "execution_count": 58,
   "metadata": {
    "collapsed": true
   },
   "outputs": [],
   "source": [
    "import hashlib\n",
    "import sys\n",
    "import datetime"
   ]
  },
  {
   "cell_type": "code",
   "execution_count": 59,
   "metadata": {
    "collapsed": true
   },
   "outputs": [],
   "source": [
    "class Block:\n",
    "    def __init__(self,data):\n",
    "        self.data = data\n",
    "        self.previoushash = None\n",
    "        self.timestamp = datetime.datetime.now()\n",
    "        self.hash = self.get_hash()\n",
    "        \n",
    "    def get_hash(self):\n",
    "        header_bin = (str(self.previoushash)+\n",
    "                     str(self.data)+\n",
    "                     str(self.timestamp)).encode()\n",
    "        \n",
    "        inner_hash = hashlib.sha256(header_bin).hexdigest().encode()\n",
    "        outer_hash = hashlib.sha256(inner_hash).hexdigest()\n",
    "        return outer_hash    "
   ]
  },
  {
   "cell_type": "code",
   "execution_count": 60,
   "metadata": {},
   "outputs": [],
   "source": [
    "class BlockChain:\n",
    "    def __init__(self):\n",
    "        self.head=None\n",
    "    \n",
    "    def insert(self,data):\n",
    "        block=Block(data)\n",
    "        if self.head==None:\n",
    "            self.head=block\n",
    "        \n",
    "        else:\n",
    "            '''\n",
    "            temp=self.head\n",
    "            self.head=block\n",
    "            block.previoushash=temp\n",
    "            '''\n",
    "            temp=self.head\n",
    "            while temp.previoushash!=None:\n",
    "                temp=temp.previoushash\n",
    "            block.previoushash=temp.previoushash\n",
    "            temp.previoushash=block\n",
    "            \n",
    "      \n",
    "    def printchain(self):\n",
    "        temp=self.head\n",
    "        if self.head==None:\n",
    "            print (\"Block Chain is empty\")\n",
    "\n",
    "        else:\n",
    "            while(temp!=None):\n",
    "                sys.stdout.write(str(temp.data))\n",
    "                if temp.previoushash != None:\n",
    "                    sys.stdout.write(str('<---'))\n",
    "                sys.stdout.flush()\n",
    "                temp = temp.previoushash\n",
    "    "
   ]
  },
  {
   "cell_type": "code",
   "execution_count": 61,
   "metadata": {
    "scrolled": true
   },
   "outputs": [
    {
     "name": "stdout",
     "output_type": "stream",
     "text": [
      "2<---32<---3<---100"
     ]
    }
   ],
   "source": [
    "block_chain=BlockChain()\n",
    "block_chain.insert(2)\n",
    "block_chain.insert(32)\n",
    "block_chain.insert(3)\n",
    "block_chain.insert(100)\n",
    "block_chain.printchain()"
   ]
  },
  {
   "cell_type": "code",
   "execution_count": null,
   "metadata": {
    "collapsed": true
   },
   "outputs": [],
   "source": []
  }
 ],
 "metadata": {
  "kernelspec": {
   "display_name": "Python 3",
   "language": "python",
   "name": "python3"
  },
  "language_info": {
   "codemirror_mode": {
    "name": "ipython",
    "version": 3
   },
   "file_extension": ".py",
   "mimetype": "text/x-python",
   "name": "python",
   "nbconvert_exporter": "python",
   "pygments_lexer": "ipython3",
   "version": "3.6.2"
  }
 },
 "nbformat": 4,
 "nbformat_minor": 2
}
