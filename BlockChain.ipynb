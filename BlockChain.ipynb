{
 "cells": [
  {
   "cell_type": "code",
   "execution_count": 1,
   "metadata": {
    "collapsed": true
   },
   "outputs": [],
   "source": [
    "import hashlib\n",
    "import datetime\n",
    "import random"
   ]
  },
  {
   "cell_type": "code",
   "execution_count": 2,
   "metadata": {
    "collapsed": true
   },
   "outputs": [],
   "source": [
    "class Block:\n",
    "    def __init__(self, previoushash, data, timestamp):\n",
    "        self.previoushash = previoushash\n",
    "        self.data = data\n",
    "        self.timestamp = timestamp\n",
    "        self.hash = self.get_hash()\n",
    "    \n",
    "    @staticmethod\n",
    "    def create_genisis_block(data):\n",
    "        return Block(\"0\", data, datetime.datetime.now())\n",
    "    def get_hash(self):\n",
    "        header_bin = (str(self.previoushash)+\n",
    "                     str(self.data)+\n",
    "                     str(self.timestamp)).encode()\n",
    "        \n",
    "        inner_hash = hashlib.sha256(header_bin).hexdigest().encode()\n",
    "        outer_hash = hashlib.sha256(inner_hash).hexdigest()\n",
    "        return outer_hash\n"
   ]
  },
  {
   "cell_type": "code",
   "execution_count": 3,
   "metadata": {},
   "outputs": [
    {
     "name": "stdout",
     "output_type": "stream",
     "text": [
      "The Genesis block has been created \n",
      "Hash: e35609af5dd73659ac8cd10535185b00c17885c090e0697328b2f523f498a668\n",
      "Hash data: 2\n",
      "Previous Hash: 0\n",
      "\n",
      "BLock 1 has been created.\n",
      "Block 1 hash: 168188ee6bf0b22a8f8b1338ab5d7ac4a67d223008726deefcc4a5ed17e0e427\n",
      "Block 1 Previous hash: e35609af5dd73659ac8cd10535185b00c17885c090e0697328b2f523f498a668\n",
      "Block 1 Data: 2.05\n",
      "Block 1 Timestamp: 2018-04-07 17:29:36.413434\n",
      "\n",
      "BLock 2 has been created.\n",
      "Block 2 hash: 9d3fd38cda77d4eb5443b3c941d51a1c494078e5fbe41fb474dd9eb9f6396030\n",
      "Block 2 Previous hash: 168188ee6bf0b22a8f8b1338ab5d7ac4a67d223008726deefcc4a5ed17e0e427\n",
      "Block 2 Data: 0.5\n",
      "Block 2 Timestamp: 2018-04-07 17:29:36.413434\n",
      "\n",
      "BLock 3 has been created.\n",
      "Block 3 hash: 94a5151f7afc9c23ecff274978068682b63c8786928a1d1fc0359721093f1561\n",
      "Block 3 Previous hash: 9d3fd38cda77d4eb5443b3c941d51a1c494078e5fbe41fb474dd9eb9f6396030\n",
      "Block 3 Data: 1.6\n",
      "Block 3 Timestamp: 2018-04-07 17:29:36.413434\n",
      "\n",
      "BLock 4 has been created.\n",
      "Block 4 hash: 591fe21b2ed0429b4c82c3b44f5f44f5e3f68ec649861453078f90c00a76a1a0\n",
      "Block 4 Previous hash: 94a5151f7afc9c23ecff274978068682b63c8786928a1d1fc0359721093f1561\n",
      "Block 4 Data: 1.95\n",
      "Block 4 Timestamp: 2018-04-07 17:29:36.413434\n",
      "\n",
      "BLock 5 has been created.\n",
      "Block 5 hash: a27f1c721d6136378528b0f136585d8359583673d6fdd80c0bfcaf17eff21085\n",
      "Block 5 Previous hash: 591fe21b2ed0429b4c82c3b44f5f44f5e3f68ec649861453078f90c00a76a1a0\n",
      "Block 5 Data: 1.575\n",
      "Block 5 Timestamp: 2018-04-07 17:29:36.413434\n",
      "\n",
      "BLock 6 has been created.\n",
      "Block 6 hash: dc21c65c63a32290e2a58cf156048bc5bc5cc12c117cc01ad7a0385a48ace2f5\n",
      "Block 6 Previous hash: a27f1c721d6136378528b0f136585d8359583673d6fdd80c0bfcaf17eff21085\n",
      "Block 6 Data: 0.875\n",
      "Block 6 Timestamp: 2018-04-07 17:29:36.429053\n",
      "\n",
      "BLock 7 has been created.\n",
      "Block 7 hash: 1c566651c2cf80009bf9febd39be8295a660f816914de8ecb68063531bb7bb8c\n",
      "Block 7 Previous hash: dc21c65c63a32290e2a58cf156048bc5bc5cc12c117cc01ad7a0385a48ace2f5\n",
      "Block 7 Data: 2.075\n",
      "Block 7 Timestamp: 2018-04-07 17:29:36.429053\n",
      "\n",
      "BLock 8 has been created.\n",
      "Block 8 hash: df2c5590521564c4d4abc6c3b6ab1c32227476372ddd505b74527f1da4403654\n",
      "Block 8 Previous hash: 1c566651c2cf80009bf9febd39be8295a660f816914de8ecb68063531bb7bb8c\n",
      "Block 8 Data: 2.425\n",
      "Block 8 Timestamp: 2018-04-07 17:29:36.429053\n",
      "\n",
      "BLock 9 has been created.\n",
      "Block 9 hash: 3f5384b4bf4314d6cd075f8cfa6f8d96ff747706424e83c1910543f5b3c25be9\n",
      "Block 9 Previous hash: df2c5590521564c4d4abc6c3b6ab1c32227476372ddd505b74527f1da4403654\n",
      "Block 9 Data: 1.6\n",
      "Block 9 Timestamp: 2018-04-07 17:29:36.429053\n",
      "\n",
      "BLock 10 has been created.\n",
      "Block 10 hash: ccab20e1845b20b3062a5794e163d5c26c1357eca3239dddb636f5ceab6d5865\n",
      "Block 10 Previous hash: 3f5384b4bf4314d6cd075f8cfa6f8d96ff747706424e83c1910543f5b3c25be9\n",
      "Block 10 Data: 1.575\n",
      "Block 10 Timestamp: 2018-04-07 17:29:36.429053\n",
      "\n"
     ]
    }
   ],
   "source": [
    "block_chain = [Block.create_genisis_block(2)]\n",
    "Previous=[]\n",
    "Hash=[]\n",
    "Data=[]\n",
    "print (\"The Genesis block has been created \")\n",
    "print (\"Hash: \"+str(block_chain[-1].hash))\n",
    "print (\"Hash data: \"+str(block_chain[-1].data))\n",
    "print (\"Previous Hash: \"+str(block_chain[-1].previoushash))\n",
    "print ()\n",
    "\n",
    "Previous.append(block_chain[-1].previoushash)\n",
    "Hash.append(block_chain[-1].data)\n",
    "Data.append(block_chain[-1].data)\n",
    "\n",
    "\n",
    "num_blocks_to_add = 10\n",
    "\n",
    "for i in range(1,num_blocks_to_add+1):\n",
    "    block_chain.append(Block(block_chain[-1].hash, random.randint(1,100)/40, datetime.datetime.now()))\n",
    "    Previous.append(block_chain[-i].previoushash)\n",
    "    Hash.append(block_chain[-i].data)\n",
    "    Data.append(block_chain[-i].data)\n",
    "\n",
    "    print (\"BLock \"+str(i)+\" has been created.\")\n",
    "    print (\"Block \"+str(i)+\" hash: \"+str(block_chain[i].hash))\n",
    "    print (\"Block \"+str(i)+\" Previous hash: \"+str(block_chain[i].previoushash))\n",
    "    print (\"Block \"+str(i)+\" Data: \"+str(block_chain[i].data))\n",
    "    print (\"Block \"+str(i)+\" Timestamp: \"+str(block_chain[i].timestamp))\n",
    "    print()"
   ]
  }
 ],
 "metadata": {
  "kernelspec": {
   "display_name": "Python 3",
   "language": "python",
   "name": "python3"
  },
  "language_info": {
   "codemirror_mode": {
    "name": "ipython",
    "version": 3
   },
   "file_extension": ".py",
   "mimetype": "text/x-python",
   "name": "python",
   "nbconvert_exporter": "python",
   "pygments_lexer": "ipython3",
   "version": "3.6.2"
  }
 },
 "nbformat": 4,
 "nbformat_minor": 2
}
