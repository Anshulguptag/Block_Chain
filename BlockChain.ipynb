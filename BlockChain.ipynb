{
 "cells": [
  {
   "cell_type": "code",
   "execution_count": 42,
   "metadata": {},
   "outputs": [],
   "source": [
    "import hashlib\n",
    "import datetime\n",
    "import random"
   ]
  },
  {
   "cell_type": "code",
   "execution_count": 26,
   "metadata": {},
   "outputs": [],
   "source": [
    "class Block:\n",
    "    def __init__(self, previoushash, data, timestamp):\n",
    "        self.previoushash = previoushash\n",
    "        self.data = data\n",
    "        self.timestamp = timestamp\n",
    "        self.hash = self.get_hash()\n",
    "    \n",
    "    @staticmethod\n",
    "    def create_genisis_block(data):\n",
    "        return Block(\"0\", data, datetime.datetime.now())\n",
    "    def get_hash(self):\n",
    "        header_bin = (str(self.previoushash)+\n",
    "                     str(self.data)+\n",
    "                     str(self.timestamp)).encode()\n",
    "        \n",
    "        inner_hash = hashlib.sha256(header_bin).hexdigest().encode()\n",
    "        outer_hash = hashlib.sha256(inner_hash).hexdigest()\n",
    "        return outer_hash\n"
   ]
  },
  {
   "cell_type": "code",
   "execution_count": 63,
   "metadata": {},
   "outputs": [
    {
     "name": "stdout",
     "output_type": "stream",
     "text": [
      "The Genesis block has been created \n",
      "Hash: 935c7225c84a19a072df6e2acf7863d2c0c398a468690404b88a5b9e87fc6dff\n",
      "Hash data: 2\n",
      "BLock 1 has been created.\n",
      "Block 1 hash: 24108dd8b3f1b501589233b45bc596c5c38840a6b9a4885171ac8874b8be85c8\n",
      "Block 1 Previous hash: 935c7225c84a19a072df6e2acf7863d2c0c398a468690404b88a5b9e87fc6dff\n",
      "Block 1 Data: 0.35\n",
      "Block 1 Timestamp: 2018-04-06 23:31:25.671699\n",
      "\n",
      "BLock 2 has been created.\n",
      "Block 2 hash: f9e9100de0f784dcc40518b6ec994f7120b095ef93512529c924b4a35259eb75\n",
      "Block 2 Previous hash: 24108dd8b3f1b501589233b45bc596c5c38840a6b9a4885171ac8874b8be85c8\n",
      "Block 2 Data: 0.75\n",
      "Block 2 Timestamp: 2018-04-06 23:31:25.674853\n",
      "\n",
      "BLock 3 has been created.\n",
      "Block 3 hash: cc99da6e188f17078f5e6ceff3d935c9e831e7e783382fe436b54f0746ec860e\n",
      "Block 3 Previous hash: f9e9100de0f784dcc40518b6ec994f7120b095ef93512529c924b4a35259eb75\n",
      "Block 3 Data: 2.425\n",
      "Block 3 Timestamp: 2018-04-06 23:31:25.674853\n",
      "\n",
      "BLock 4 has been created.\n",
      "Block 4 hash: 9df29e8a40d78e91cf9e936198f16b645ad2bb87606d0685d6445450157faa5c\n",
      "Block 4 Previous hash: cc99da6e188f17078f5e6ceff3d935c9e831e7e783382fe436b54f0746ec860e\n",
      "Block 4 Data: 1.75\n",
      "Block 4 Timestamp: 2018-04-06 23:31:25.674853\n",
      "\n",
      "BLock 5 has been created.\n",
      "Block 5 hash: 61a0c66e7dd87ae0ea82990ebb967c9cbaf4f46531c7029ce5db1793550cadd0\n",
      "Block 5 Previous hash: 9df29e8a40d78e91cf9e936198f16b645ad2bb87606d0685d6445450157faa5c\n",
      "Block 5 Data: 2.25\n",
      "Block 5 Timestamp: 2018-04-06 23:31:25.675852\n",
      "\n",
      "BLock 6 has been created.\n",
      "Block 6 hash: 0cc1a45b2e3776d68b74915ccfde81201e84c0bcc5b06b1937f072cb8314fc3b\n",
      "Block 6 Previous hash: 61a0c66e7dd87ae0ea82990ebb967c9cbaf4f46531c7029ce5db1793550cadd0\n",
      "Block 6 Data: 0.1\n",
      "Block 6 Timestamp: 2018-04-06 23:31:25.675852\n",
      "\n",
      "BLock 7 has been created.\n",
      "Block 7 hash: 749244128e2173cc12e22b3388b4798a85249883948d06ab285a87f985f54076\n",
      "Block 7 Previous hash: 0cc1a45b2e3776d68b74915ccfde81201e84c0bcc5b06b1937f072cb8314fc3b\n",
      "Block 7 Data: 0.05\n",
      "Block 7 Timestamp: 2018-04-06 23:31:25.675852\n",
      "\n",
      "BLock 8 has been created.\n",
      "Block 8 hash: ac279fe0d00b09744e997b351062f527ca0664852ad58b46fa35cba3613f7268\n",
      "Block 8 Previous hash: 749244128e2173cc12e22b3388b4798a85249883948d06ab285a87f985f54076\n",
      "Block 8 Data: 1.4\n",
      "Block 8 Timestamp: 2018-04-06 23:31:25.676501\n",
      "\n",
      "BLock 9 has been created.\n",
      "Block 9 hash: 5e24e600468d962de3a7b81aedf8beb3de0f02eabac33889255c5bc06ba8cb3b\n",
      "Block 9 Previous hash: ac279fe0d00b09744e997b351062f527ca0664852ad58b46fa35cba3613f7268\n",
      "Block 9 Data: 1.725\n",
      "Block 9 Timestamp: 2018-04-06 23:31:25.676501\n",
      "\n",
      "BLock 10 has been created.\n",
      "Block 10 hash: 4f18247fea2a36bcea4eabcebcb135c2529c61a78146c1a736b1d75c3bfca788\n",
      "Block 10 Previous hash: 5e24e600468d962de3a7b81aedf8beb3de0f02eabac33889255c5bc06ba8cb3b\n",
      "Block 10 Data: 1.5\n",
      "Block 10 Timestamp: 2018-04-06 23:31:25.676501\n",
      "\n"
     ]
    }
   ],
   "source": [
    "block_chain = [Block.create_genisis_block(2)]\n",
    "print (\"The Genesis block has been created \")\n",
    "print (\"Hash: \"+str(block_chain[-1].hash))\n",
    "print (\"Hash data: \"+str(block_chain[-1].data))\n",
    "num_blocks_to_add = 10\n",
    "\n",
    "for i in range(1,num_blocks_to_add+1):\n",
    "    block_chain.append(Block(block_chain[-1].hash, random.randint(1,100)/40, datetime.datetime.now()))\n",
    "    \n",
    "    print (\"BLock \"+str(i)+\" has been created.\")\n",
    "    print (\"Block \"+str(i)+\" hash: \"+str(block_chain[i].hash))\n",
    "    print (\"Block \"+str(i)+\" Previous hash: \"+str(block_chain[i].previoushash))\n",
    "    print (\"Block \"+str(i)+\" Data: \"+str(block_chain[i].data))\n",
    "    print (\"Block \"+str(i)+\" Timestamp: \"+str(block_chain[i].timestamp))\n",
    "    print()"
   ]
  },
  {
   "cell_type": "code",
   "execution_count": null,
   "metadata": {},
   "outputs": [],
   "source": []
  }
 ],
 "metadata": {
  "kernelspec": {
   "display_name": "Python 3",
   "language": "python",
   "name": "python3"
  },
  "language_info": {
   "codemirror_mode": {
    "name": "ipython",
    "version": 3
   },
   "file_extension": ".py",
   "mimetype": "text/x-python",
   "name": "python",
   "nbconvert_exporter": "python",
   "pygments_lexer": "ipython3",
   "version": "3.5.5"
  }
 },
 "nbformat": 4,
 "nbformat_minor": 2
}
