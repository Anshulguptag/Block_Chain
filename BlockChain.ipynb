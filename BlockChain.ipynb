{
 "cells": [
  {
   "cell_type": "code",
   "execution_count": 1,
   "metadata": {
    "collapsed": true
   },
   "outputs": [],
   "source": [
    "import hashlib\n",
    "import datetime\n",
    "import random"
   ]
  },
  {
   "cell_type": "code",
   "execution_count": 2,
   "metadata": {
    "collapsed": true
   },
   "outputs": [],
   "source": [
    "class Block:\n",
    "    def __init__(self, previoushash, data, timestamp):\n",
    "        self.previoushash = previoushash\n",
    "        self.data = data\n",
    "        self.timestamp = timestamp\n",
    "        self.hash = self.get_hash()\n",
    "    \n",
    "    @staticmethod\n",
    "    def create_genisis_block(data):\n",
    "        return Block(\"0\", data, datetime.datetime.now())\n",
    "    def get_hash(self):\n",
    "        header_bin = (str(self.previoushash)+\n",
    "                     str(self.data)+\n",
    "                     str(self.timestamp)).encode()\n",
    "        \n",
    "        inner_hash = hashlib.sha256(header_bin).hexdigest().encode()\n",
    "        outer_hash = hashlib.sha256(inner_hash).hexdigest()\n",
    "        return outer_hash\n"
   ]
  },
  {
   "cell_type": "code",
   "execution_count": 7,
   "metadata": {},
   "outputs": [
    {
     "name": "stdout",
     "output_type": "stream",
     "text": [
      "The Genesis block has been created \n",
      "Hash: acf96533c851336a5c76ee75bd704bd3cc1f9990bbd032d01cfeb1fa92fc3776\n",
      "Hash data: 2\n",
      "Previous Hash: 0\n",
      "\n",
      "BLock 1 has been created.\n",
      "Block 1 hash: 741f020bc464eafef157b3bc3eff12392d81a6f6441771edaa731f55dcc9d003\n",
      "Block 1 Previous hash: acf96533c851336a5c76ee75bd704bd3cc1f9990bbd032d01cfeb1fa92fc3776\n",
      "Block 1 Data: 2.025\n",
      "Block 1 Timestamp: 2018-04-07 00:24:29.940148\n",
      "\n",
      "BLock 2 has been created.\n",
      "Block 2 hash: 6eb429a11ed4b13166c4db962035290a41a5e4a200aeb0c8843aadb13fe44bb8\n",
      "Block 2 Previous hash: 741f020bc464eafef157b3bc3eff12392d81a6f6441771edaa731f55dcc9d003\n",
      "Block 2 Data: 2.025\n",
      "Block 2 Timestamp: 2018-04-07 00:24:29.940148\n",
      "\n",
      "BLock 3 has been created.\n",
      "Block 3 hash: c3f03ecfec23a0c5204e07eb8c4eca1b0ac0bc048e347e3949fd297a2da49d41\n",
      "Block 3 Previous hash: 6eb429a11ed4b13166c4db962035290a41a5e4a200aeb0c8843aadb13fe44bb8\n",
      "Block 3 Data: 0.4\n",
      "Block 3 Timestamp: 2018-04-07 00:24:29.940148\n",
      "\n",
      "BLock 4 has been created.\n",
      "Block 4 hash: 0f708984675d35ceac6b4585a25c326d4ec3b763502c7a6b5e2219f9bf1dea3a\n",
      "Block 4 Previous hash: c3f03ecfec23a0c5204e07eb8c4eca1b0ac0bc048e347e3949fd297a2da49d41\n",
      "Block 4 Data: 2.45\n",
      "Block 4 Timestamp: 2018-04-07 00:24:29.940148\n",
      "\n",
      "BLock 5 has been created.\n",
      "Block 5 hash: de64fcf82e9177edcff85a72dae34661b24c5db78dc4b111b54655cb9fc06fb3\n",
      "Block 5 Previous hash: 0f708984675d35ceac6b4585a25c326d4ec3b763502c7a6b5e2219f9bf1dea3a\n",
      "Block 5 Data: 2.375\n",
      "Block 5 Timestamp: 2018-04-07 00:24:29.940148\n",
      "\n",
      "BLock 6 has been created.\n",
      "Block 6 hash: 0f278b2bdb383eeabf37ba27351d4097b2499058c41ea43a253a47241a42807b\n",
      "Block 6 Previous hash: de64fcf82e9177edcff85a72dae34661b24c5db78dc4b111b54655cb9fc06fb3\n",
      "Block 6 Data: 1.5\n",
      "Block 6 Timestamp: 2018-04-07 00:24:29.940148\n",
      "\n",
      "BLock 7 has been created.\n",
      "Block 7 hash: 7fb480a4522db3cdd047194820e600883de1e9e4863443c97076ed614554b3cf\n",
      "Block 7 Previous hash: 0f278b2bdb383eeabf37ba27351d4097b2499058c41ea43a253a47241a42807b\n",
      "Block 7 Data: 1.825\n",
      "Block 7 Timestamp: 2018-04-07 00:24:29.940148\n",
      "\n",
      "BLock 8 has been created.\n",
      "Block 8 hash: 5f3458219fc0c779c0bfd9bcae9daf78ad4a09ec5b31a6c26a3fa9b88162b6c5\n",
      "Block 8 Previous hash: 7fb480a4522db3cdd047194820e600883de1e9e4863443c97076ed614554b3cf\n",
      "Block 8 Data: 0.8\n",
      "Block 8 Timestamp: 2018-04-07 00:24:29.940148\n",
      "\n",
      "BLock 9 has been created.\n",
      "Block 9 hash: 15bb7fec89d1417464836c3cccea9f8ca930ea4c0baeaff637cde7d1a7d3b095\n",
      "Block 9 Previous hash: 5f3458219fc0c779c0bfd9bcae9daf78ad4a09ec5b31a6c26a3fa9b88162b6c5\n",
      "Block 9 Data: 1.975\n",
      "Block 9 Timestamp: 2018-04-07 00:24:29.940148\n",
      "\n",
      "BLock 10 has been created.\n",
      "Block 10 hash: 1f191b7aaa44d1a2a98cde5d6e231fabecae25652e69b484695fe48ef676809b\n",
      "Block 10 Previous hash: 15bb7fec89d1417464836c3cccea9f8ca930ea4c0baeaff637cde7d1a7d3b095\n",
      "Block 10 Data: 0.25\n",
      "Block 10 Timestamp: 2018-04-07 00:24:29.940148\n",
      "\n"
     ]
    }
   ],
   "source": [
    "block_chain = [Block.create_genisis_block(2)]\n",
    "Previous=[]\n",
    "Hash=[]\n",
    "Data=[]\n",
    "print (\"The Genesis block has been created \")\n",
    "print (\"Hash: \"+str(block_chain[-1].hash))\n",
    "print (\"Hash data: \"+str(block_chain[-1].data))\n",
    "print (\"Previous Hash: \"+str(block_chain[-1].previoushash))\n",
    "print ()\n",
    "\n",
    "Previous.append(block_chain[-1].previoushash)\n",
    "Hash.append(block_chain[-1].data)\n",
    "Data.append(block_chain[-1].data)\n",
    "\n",
    "\n",
    "num_blocks_to_add = 10\n",
    "\n",
    "for i in range(1,num_blocks_to_add+1):\n",
    "    block_chain.append(Block(block_chain[-1].hash, random.randint(1,100)/40, datetime.datetime.now()))\n",
    "    Previous.append(block_chain[-i].previoushash)\n",
    "    Hash.append(block_chain[-i].data)\n",
    "    Data.append(block_chain[-i].data)\n",
    "\n",
    "    print (\"BLock \"+str(i)+\" has been created.\")\n",
    "    print (\"Block \"+str(i)+\" hash: \"+str(block_chain[i].hash))\n",
    "    print (\"Block \"+str(i)+\" Previous hash: \"+str(block_chain[i].previoushash))\n",
    "    print (\"Block \"+str(i)+\" Data: \"+str(block_chain[i].data))\n",
    "    print (\"Block \"+str(i)+\" Timestamp: \"+str(block_chain[i].timestamp))\n",
    "    print()"
   ]
  },
  {
   "cell_type": "code",
   "execution_count": 6,
   "metadata": {},
   "outputs": [
    {
     "data": {
      "text/plain": [
       "'8d9744b769ecc5c497ce7903780249d98279eae50237206db3e9b66ecbe1bb53'"
      ]
     },
     "execution_count": 6,
     "metadata": {},
     "output_type": "execute_result"
    }
   ],
   "source": [
    "    "
   ]
  }
 ],
 "metadata": {
  "kernelspec": {
   "display_name": "Python 3",
   "language": "python",
   "name": "python3"
  },
  "language_info": {
   "codemirror_mode": {
    "name": "ipython",
    "version": 3
   },
   "file_extension": ".py",
   "mimetype": "text/x-python",
   "name": "python",
   "nbconvert_exporter": "python",
   "pygments_lexer": "ipython3",
   "version": "3.6.2"
  }
 },
 "nbformat": 4,
 "nbformat_minor": 2
}
