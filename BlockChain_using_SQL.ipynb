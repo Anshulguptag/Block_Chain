{
 "cells": [
  {
   "cell_type": "code",
   "execution_count": 11,
   "metadata": {},
   "outputs": [],
   "source": [
    "import mysql.connector\n",
    "import hashlib\n",
    "import datetime\n",
    "import numpy as np"
   ]
  },
  {
   "cell_type": "code",
   "execution_count": 12,
   "metadata": {},
   "outputs": [],
   "source": [
    "conn = mysql.connector.connect(host='localhost',database='mysql',user='root',password='Anshul@13')"
   ]
  },
  {
   "cell_type": "code",
   "execution_count": 13,
   "metadata": {},
   "outputs": [],
   "source": [
    "cursor = conn.cursor()"
   ]
  },
  {
   "cell_type": "code",
   "execution_count": 14,
   "metadata": {},
   "outputs": [],
   "source": [
    "class Block:\n",
    "    def __init__(self,data):\n",
    "        self.data = data\n",
    "        self.previoushash = None\n",
    "        self.timestamp = datetime.datetime.now()\n",
    "        self.hash = self.get_hash()\n",
    "        \n",
    "    def get_hash(self):\n",
    "        header_bin = (str(self.previoushash)+\n",
    "                     str(self.data)+\n",
    "                     str(self.timestamp)).encode()\n",
    "        \n",
    "        inner_hash = hashlib.sha256(header_bin).hexdigest().encode()\n",
    "        outer_hash = hashlib.sha256(inner_hash).hexdigest()\n",
    "        return outer_hash  \n",
    "    \n",
    "    def insert(self, data):\n",
    "        block = Block(data)\n",
    "        return block.data, self.hash"
   ]
  },
  {
   "cell_type": "code",
   "execution_count": 15,
   "metadata": {},
   "outputs": [
    {
     "name": "stdout",
     "output_type": "stream",
     "text": [
      "Do you want to enter data: n\n"
     ]
    }
   ],
   "source": [
    "want_data=input(\"Do you want to enter data: \")\n",
    "if want_data == 'y':\n",
    "    block1 = '0x0'\n",
    "    choice = 'y'\n",
    "    sql = \"Select Block_Id from block\"\n",
    "    cursor.execute(sql)\n",
    "    blockss=cursor.fetchall()\n",
    "    if len(blockss)>1:\n",
    "        block1=blockss[len(blockss)-1]\n",
    "        block1=block1[0]\n",
    "\n",
    "    while choice =='y':\n",
    "        block = Block(None)\n",
    "        Input1 = input(\"Enter data: \")\n",
    "        Owner = input(\"Enter Name: \")\n",
    "        data, Bhash= block.insert(Input1)\n",
    "        sql= \"Insert into block (Block_Id, Previous_Id, Data, Owner, Transaction_Done) values('\"+str(Bhash)+\"','\"+str(block1)+\"','\"+str(data)+\"','\"+str(Owner)+\"', 'No transaction is Done')\"\n",
    "        cursor.execute(sql)\n",
    "        conn.commit()\n",
    "        sql = \"Select Block_Id from block\"\n",
    "        cursor.execute(sql)\n",
    "        blocks=cursor.fetchall()\n",
    "        block1=blocks[len(blocks)-1]\n",
    "        block1=block1[0]\n",
    "        choice = input(\"Want to add more: \")\n",
    "    #print (int(len(cursor.fetchall())))\n"
   ]
  },
  {
   "cell_type": "code",
   "execution_count": 16,
   "metadata": {},
   "outputs": [
    {
     "name": "stdout",
     "output_type": "stream",
     "text": [
      "Do you want to see Ledger: n\n"
     ]
    }
   ],
   "source": [
    "choice = input(\"Do you want to see Ledger: \")\n",
    "flag = 0\n",
    "if choice =='y':\n",
    "    sql = \"Select Block_Id from block\"\n",
    "    cursor.execute(sql)\n",
    "    block_id=cursor.fetchall()\n",
    "    b_id =input (\"Enter your block_id: \")\n",
    "    block_id = np.array(block_id)\n",
    "    for i in range(len(block_id)):\n",
    "        if block_id[i][0]==b_id:\n",
    "            sql = \"Select Data from block\"\n",
    "            cursor.execute(sql)\n",
    "            data=cursor.fetchall()\n",
    "            sql = \"Select Owner from block\"\n",
    "            cursor.execute(sql)\n",
    "            owner=cursor.fetchall()\n",
    "            sql = \"Select Transaction_Done from block\"\n",
    "            cursor.execute(sql)\n",
    "            LT=cursor.fetchall()\n",
    "            \n",
    "            print (\"Owner - Data - Last Transaction\")\n",
    "            for d in range(len(data)):\n",
    "                print (owner[d][0],\" : \",data[d][0],\" : \",LT[d][0])\n",
    "            flag =1\n",
    "            break\n",
    "    if flag ==0:\n",
    "        print (\"Invalid ID\")"
   ]
  },
  {
   "cell_type": "code",
   "execution_count": 17,
   "metadata": {},
   "outputs": [
    {
     "name": "stdout",
     "output_type": "stream",
     "text": [
      "Do you want to Transaction:y\n",
      "Enter your block_id: 00ee49bcad84237e83401739ed073a12af0fcc4d58c0aff0bbb63b3c4c676a97\n",
      "Enter id where you transfer: dd8804b56af1b2767aa4b863433db4b0867b41bc77d21d619a44127fa21f72a8\n",
      "Enter the amount to be transfer: 10\n",
      "Transaction is Done from JK to Watson of Rs.10\n",
      "Transaction is Sucessfully done! :)\n"
     ]
    }
   ],
   "source": [
    "trans = input(\"Do you want to Transaction:\")\n",
    "if trans == 'y':\n",
    "    sql = \"Select Block_Id from block\"\n",
    "    cursor.execute(sql)\n",
    "    block_id=cursor.fetchall()\n",
    "    b_id =input (\"Enter your block_id: \")\n",
    "    s_id =input (\"Enter id where you transfer: \")\n",
    "    block_id = np.array(block_id)\n",
    "    if b_id!=s_id:\n",
    "        for i in range(len(block_id)):\n",
    "            if block_id[i][0]==b_id:\n",
    "                for j in range(len(block_id)):\n",
    "                    if block_id[j][0]==s_id:\n",
    "                        sql = \"Select Data from block where Block_Id='\"+str(b_id)+\"'\"\n",
    "                        cursor.execute(sql)\n",
    "                        data=cursor.fetchall()\n",
    "                        data = data[0][0]\n",
    "                        sql = \"Select Data from block where Block_Id='\"+str(s_id)+\"'\"\n",
    "                        cursor.execute(sql)\n",
    "                        data1=cursor.fetchall()\n",
    "                        data1 = data1[0][0]\n",
    "                        sql = \"Select Owner from block where Block_Id='\"+str(b_id)+\"'\"\n",
    "                        cursor.execute(sql)\n",
    "                        owner=cursor.fetchall()\n",
    "                        \n",
    "                        sql = \"Select Owner from block where Block_Id='\"+str(s_id)+\"'\"\n",
    "                        cursor.execute(sql)\n",
    "                        owner1=cursor.fetchall()\n",
    "                        \n",
    "                        trans_amount = int(input(\"Enter the amount to be transfer: \"))\n",
    "                        if data<trans_amount:\n",
    "                            print (\"Sorry transaction cannot be done due to insufficient amount\")\n",
    "                        else:\n",
    "                            data = data-trans_amount\n",
    "                            data1 = data1+trans_amount\n",
    "                            sql = \"Update block set Data='\"+str(data)+\"' where Block_Id='\"+str(b_id)+\"'\"\n",
    "                            cursor.execute(sql)\n",
    "                            conn.commit()\n",
    "                            sql = \"Update block set Data='\"+str(data1)+\"' where Block_Id='\"+str(s_id)+\"'\"\n",
    "                            cursor.execute(sql)\n",
    "                            conn.commit()\n",
    "                            print (\"Transaction is Done from \"+str(owner[0][0])+\" to \"+str(owner1[0][0])+\" of Rs.\"+str(trans_amount))\n",
    "                            sql = \"Update block set Transaction_Done='Debit of Rs.\"+str(trans_amount)+\"' where Block_Id='\"+str(b_id)+\"'\"\n",
    "                            cursor.execute(sql)\n",
    "                            conn.commit()\n",
    "                            sql = \"Update block set Transaction_Done='Credit of Rs.\"+str(trans_amount)+\"' where Block_Id='\"+str(s_id)+\"'\"\n",
    "                            cursor.execute(sql)\n",
    "                            conn.commit()\n",
    "                            \n",
    "                            print (\"Transaction is Sucessfully done! :)\")\n",
    "                            \n",
    "                            \n",
    "    else:\n",
    "        print (\"Sorry Both ids are same! try again :(\")"
   ]
  },
  {
   "cell_type": "code",
   "execution_count": 18,
   "metadata": {},
   "outputs": [
    {
     "name": "stdout",
     "output_type": "stream",
     "text": [
      "Do you want to close connection: y\n"
     ]
    }
   ],
   "source": [
    "'''\n",
    "sql='TRUNCATE TABLE block'\n",
    "cursor.execute(sql)\n",
    "conn.commit()\n",
    "'''\n",
    "choice = input(\"Do you want to close connection: \")\n",
    "if choice == 'y':\n",
    "    conn.close()"
   ]
  }
 ],
 "metadata": {
  "kernelspec": {
   "display_name": "Python 3",
   "language": "python",
   "name": "python3"
  },
  "language_info": {
   "codemirror_mode": {
    "name": "ipython",
    "version": 3
   },
   "file_extension": ".py",
   "mimetype": "text/x-python",
   "name": "python",
   "nbconvert_exporter": "python",
   "pygments_lexer": "ipython3",
   "version": "3.5.5"
  }
 },
 "nbformat": 4,
 "nbformat_minor": 2
}
