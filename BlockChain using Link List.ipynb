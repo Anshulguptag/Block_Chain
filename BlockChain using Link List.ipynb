{
 "cells": [
  {
   "cell_type": "code",
   "execution_count": 126,
   "metadata": {
    "collapsed": true
   },
   "outputs": [],
   "source": [
    "import hashlib\n",
    "import sys\n",
    "import datetime\n",
    "import random"
   ]
  },
  {
   "cell_type": "code",
   "execution_count": 127,
   "metadata": {
    "collapsed": true
   },
   "outputs": [],
   "source": [
    "class Block:\n",
    "    def __init__(self,data):\n",
    "        self.data = data\n",
    "        self.previoushash = None\n",
    "        self.timestamp = datetime.datetime.now()\n",
    "        self.hash = self.get_hash()\n",
    "        \n",
    "    def get_hash(self):\n",
    "        header_bin = (str(self.previoushash)+\n",
    "                     str(self.data)+\n",
    "                     str(self.timestamp)).encode()\n",
    "        \n",
    "        inner_hash = hashlib.sha256(header_bin).hexdigest().encode()\n",
    "        outer_hash = hashlib.sha256(inner_hash).hexdigest()\n",
    "        return outer_hash    "
   ]
  },
  {
   "cell_type": "code",
   "execution_count": 128,
   "metadata": {},
   "outputs": [],
   "source": [
    "class BlockChain:\n",
    "    def __init__(self):\n",
    "        self.head=None\n",
    "        self.i = 0\n",
    "    \n",
    "    def insert(self,data):\n",
    "        block=Block(data)\n",
    "        if self.head==None:\n",
    "            self.head=block\n",
    "            print (\"Genesis Block has been created\")\n",
    "        else:\n",
    "            temp=self.head\n",
    "            self.head=block\n",
    "            block.previoushash=temp\n",
    "            self.i = self.i+1\n",
    "            print (\"Block \"+str(self.i)+\" has been created.\")\n",
    "            \n",
    "            '''\n",
    "            temp=self.head\n",
    "            self.i=self.i+1\n",
    "            while temp.previoushash!=None:\n",
    "                temp=temp.previoushash\n",
    "            block.previoushash=temp.previoushash\n",
    "            temp.previoushash=block\n",
    "            print (\"Block \"+str(self.i)+\" has been created.\")\n",
    "            '''\n",
    "      \n",
    "    def printchain(self):\n",
    "        temp=self.head\n",
    "        print ()\n",
    "        if self.head==None:\n",
    "            print (\"Block Chain is empty\")\n",
    "\n",
    "        else:\n",
    "            while(temp!=None):\n",
    "                if self.i==0:\n",
    "                    print (\"Genesis Data \"+str(temp.data))\n",
    "                else:\n",
    "                    print (\"Block \"+str(self.i)+\" Data: \"+str(temp.data))\n",
    "                '''\n",
    "                if temp.previoushash != None:\n",
    "                    sys.stdout.write(str('<---'))\n",
    "                sys.stdout.flush()\n",
    "                '''\n",
    "                self.i =self.i-1\n",
    "                temp = temp.previoushash\n",
    "    "
   ]
  },
  {
   "cell_type": "code",
   "execution_count": 129,
   "metadata": {
    "scrolled": true
   },
   "outputs": [
    {
     "name": "stdout",
     "output_type": "stream",
     "text": [
      "Genesis Block has been created\n",
      "Block 1 has been created.\n",
      "Block 2 has been created.\n",
      "Block 3 has been created.\n",
      "\n",
      "Block 3 Data: 10\n",
      "Block 2 Data: 8\n",
      "Block 1 Data: 9\n",
      "Genesis Data 5\n"
     ]
    }
   ],
   "source": [
    "block_chain=BlockChain()\n",
    "block_chain.insert(5)\n",
    "block_chain.insert(9)\n",
    "block_chain.insert(8)\n",
    "block_chain.insert(10)\n",
    "block_chain.printchain()"
   ]
  },
  {
   "cell_type": "code",
   "execution_count": null,
   "metadata": {
    "collapsed": true
   },
   "outputs": [],
   "source": []
  }
 ],
 "metadata": {
  "kernelspec": {
   "display_name": "Python 3",
   "language": "python",
   "name": "python3"
  },
  "language_info": {
   "codemirror_mode": {
    "name": "ipython",
    "version": 3
   },
   "file_extension": ".py",
   "mimetype": "text/x-python",
   "name": "python",
   "nbconvert_exporter": "python",
   "pygments_lexer": "ipython3",
   "version": "3.6.2"
  }
 },
 "nbformat": 4,
 "nbformat_minor": 2
}
